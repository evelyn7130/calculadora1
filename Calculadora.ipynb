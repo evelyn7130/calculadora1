{
  "cells": [
    {
      "cell_type": "markdown",
      "metadata": {
        "id": "view-in-github",
        "colab_type": "text"
      },
      "source": [
        "<a href=\"https://colab.research.google.com/github/evelyn7130/calculadora1/blob/featCalculadora/Calculadora.ipynb\" target=\"_parent\"><img src=\"https://colab.research.google.com/assets/colab-badge.svg\" alt=\"Open In Colab\"/></a>"
      ]
    },
    {
      "cell_type": "code",
      "source": [
        "operacao = str(input(\"escolha a operação que deseja realizar (+ , - , * , / ):\"))\n",
        "if operacao not in ('+ , - , * , /'):\n",
        "  print(\"erro tente uma nova operação\")\n",
        "else:\n",
        "  primeiro_numero = float(input(\"digite o primeiro número:\"))\n",
        "  segundo_numero = float(input(\"digite o segundo número:\"))\n",
        "if operacao == '+' :\n",
        "  conta = primeiro_numero + segundo_numero\n",
        "  print(f\"resultado: {conta:.2f}\")\n",
        "elif operacao == '-' :\n",
        "  conta = primeiro_numero - segundo_numero\n",
        "  print(f\"resultado: {conta:.2f}\")\n",
        "elif operacao == '*' :\n",
        "  conta = primeiro_numero * segundo_numero\n",
        "  print(f\"resultado: {conta:.2f}\")\n",
        "elif operacao == '/' :\n",
        "  conta = primeiro_numero / segundo_numero\n",
        "  print(f\"resultado: {conta:.2f}\")"
      ],
      "metadata": {
        "id": "Pcc6xAmFiX5q"
      },
      "execution_count": null,
      "outputs": []
    }
  ],
  "metadata": {
    "colab": {
      "provenance": [],
      "include_colab_link": true
    },
    "kernelspec": {
      "display_name": "Python 3",
      "name": "python3"
    }
  },
  "nbformat": 4,
  "nbformat_minor": 0
}